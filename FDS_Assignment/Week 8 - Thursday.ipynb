{
 "cells": [
  {
   "cell_type": "markdown",
   "id": "7c2cc875",
   "metadata": {},
   "source": [
    "# Question 1\n",
    "\n",
    "Given a _univariate_ (single-variable) _probability density function (PDF)_ $f(x)$, e.g.\n",
    "$$\n",
    "f(x) = \\begin{cases}\n",
    "0, & \\text{if }x < -\\frac{\\pi}{2} \\\\\n",
    "\\frac 12\\cos(x), & \\text{if }-\\frac{\\pi}{2} < x < \\frac{\\pi}{2} \\\\\n",
    "0, & \\text{if }\\frac{\\pi}{2} < x\n",
    "\\end{cases}\n",
    "$$\n",
    "it's **mean** is\n",
    "$$\n",
    "E[x] = \\int_{-\\infty}^{\\infty}xf(x)dx = \\frac 12 \\int_{-\\pi/2}^{\\pi/2}x\\cos(x)dx,\n",
    "$$\n",
    "and its **variance** is\n",
    "$$\n",
    "E[x^2] = \\int_{-\\infty}^{\\infty}x^2f(x)dx = \\frac 12 \\int_{-\\pi/2}^{\\pi/2}x^2\\cos(x)dx.\n",
    "$$"
   ]
  },
  {
   "cell_type": "code",
   "execution_count": 1,
   "id": "94d8bef4",
   "metadata": {},
   "outputs": [],
   "source": [
    "import sympy as sp"
   ]
  },
  {
   "cell_type": "code",
   "execution_count": 2,
   "id": "34f731a7",
   "metadata": {},
   "outputs": [],
   "source": [
    "x = sp.Symbol('x')"
   ]
  },
  {
   "cell_type": "markdown",
   "id": "3311b965",
   "metadata": {},
   "source": [
    "Our pdf should integrate to $1$..."
   ]
  },
  {
   "cell_type": "code",
   "execution_count": 7,
   "id": "76e38cf8",
   "metadata": {},
   "outputs": [
    {
     "data": {
      "image/png": "[encoded data removed]",
      "text/latex": [
       "$\\displaystyle 1.0$"
      ],
      "text/plain": [
       "1.00000000000000"
      ]
     },
     "execution_count": 7,
     "metadata": {},
     "output_type": "execute_result"
    }
   ],
   "source": [
    "sp.integrate(0.5*sp.cos(x),(x,-sp.pi/2,sp.pi/2))"
   ]
  },
  {
   "cell_type": "markdown",
   "id": "10082e66",
   "metadata": {},
   "source": [
    "Mean:"
   ]
  },
  {
   "cell_type": "code",
   "execution_count": 8,
   "id": "7f520809",
   "metadata": {},
   "outputs": [
    {
     "data": {
      "image/png": "[encoded data removed]",
      "text/latex": [
       "$\\displaystyle 0$"
      ],
      "text/plain": [
       "0"
      ]
     },
     "execution_count": 8,
     "metadata": {},
     "output_type": "execute_result"
    }
   ],
   "source": [
    "sp.integrate(0.5*sp.cos(x)*x,(x,-sp.pi/2,sp.pi/2))"
   ]
  },
  {
   "cell_type": "markdown",
   "id": "6c188811",
   "metadata": {},
   "source": [
    "Variance:"
   ]
  },
  {
   "cell_type": "code",
   "execution_count": 10,
   "id": "cb8367de",
   "metadata": {},
   "outputs": [
    {
     "data": {
      "image/png": "[encoded data removed]",
      "text/latex": [
       "$\\displaystyle 0.46740110027234$"
      ],
      "text/plain": [
       "0.46740110027233966"
      ]
     },
     "execution_count": 10,
     "metadata": {},
     "output_type": "execute_result"
    }
   ],
   "source": [
    "float(sp.integrate(0.5*sp.cos(x)*x**2,(x,-sp.pi/2,sp.pi/2)))"
   ]
  },
  {
   "cell_type": "markdown",
   "id": "f0122011",
   "metadata": {},
   "source": [
    "Probability that $x$ is smaller than $-\\frac 14$:"
   ]
  },
  {
   "cell_type": "code",
   "execution_count": 12,
   "id": "3eb1f102",
   "metadata": {},
   "outputs": [
    {
     "data": {
      "image/png": "[encoded data removed]",
      "text/latex": [
       "$\\displaystyle 0.146446609406726$"
      ],
      "text/plain": [
       "0.14644660940672624"
      ]
     },
     "execution_count": 12,
     "metadata": {},
     "output_type": "execute_result"
    }
   ],
   "source": [
    "float(sp.integrate(0.5*sp.cos(x),(x,-sp.pi/2,-sp.pi/4)))"
   ]
  },
  {
   "cell_type": "markdown",
   "id": "699f7990",
   "metadata": {},
   "source": [
    "## Plotting the PDF $f(x)$"
   ]
  },
  {
   "cell_type": "code",
   "execution_count": 4,
   "id": "878471be",
   "metadata": {},
   "outputs": [],
   "source": [
    "%matplotlib inline\n",
    "import matplotlib.pyplot as plt\n",
    "import numpy as np"
   ]
  },
  {
   "cell_type": "code",
   "execution_count": 5,
   "id": "c03579ad",
   "metadata": {},
   "outputs": [],
   "source": [
    "@np.vectorize\n",
    "def np_f(x):\n",
    "    return (-np.pi/2<x<np.pi/2)*0.5*np.cos(x)"
   ]
  },
  {
   "cell_type": "code",
   "execution_count": 6,
   "id": "a099bbde",
   "metadata": {},
   "outputs": [
    {
     "data": {
      "image/png": "[encoded data removed]",
      "text/plain": [
       "<Figure size 144x144 with 1 Axes>"
      ]
     },
     "metadata": {
      "needs_background": "light"
     },
     "output_type": "display_data"
    }
   ],
   "source": [
    "xdata = np.arange(-10,10,0.1)\n",
    "ydata = np_f(xdata)\n",
    "\n",
    "plt.figure(dpi=144, figsize=(1,1))\n",
    "plt.plot(xdata,ydata)\n",
    "plt.show()"
   ]
  },
  {
   "cell_type": "markdown",
   "id": "b3337b0c",
   "metadata": {},
   "source": [
    "# Question 2\n",
    "First, we need to read in the data."
   ]
  },
  {
   "cell_type": "code",
   "execution_count": 14,
   "id": "95880d09",
   "metadata": {},
   "outputs": [],
   "source": [
    "import pandas as pd"
   ]
  },
  {
   "cell_type": "code",
   "execution_count": 45,
   "id": "8478ac86",
   "metadata": {},
   "outputs": [],
   "source": [
    "df = pd.read_csv('homes.csv', sep='\\s+')\n",
    "values = np.array(df['Value'])\n",
    "numbers = np.array(df['Number'])"
   ]
  },
  {
   "cell_type": "code",
   "execution_count": 46,
   "id": "1c91fd26",
   "metadata": {},
   "outputs": [
    {
     "data": {
      "image/png": "[encoded data removed]",
      "text/plain": [
       "<Figure size 288x288 with 1 Axes>"
      ]
     },
     "metadata": {
      "needs_background": "light"
     },
     "output_type": "display_data"
    }
   ],
   "source": [
    "plt.figure(dpi=144, figsize=(2,2))\n",
    "plt.scatter(values, numbers)\n",
    "plt.show()"
   ]
  },
  {
   "cell_type": "markdown",
   "id": "8fc3b9cd",
   "metadata": {},
   "source": [
    "Our pdf should integrate to $1$..."
   ]
  },
  {
   "cell_type": "code",
   "execution_count": 47,
   "id": "7e3f7a2c",
   "metadata": {},
   "outputs": [
    {
     "data": {
      "image/png": "[encoded data removed]",
      "text/latex": [
       "$\\displaystyle 1.0$"
      ],
      "text/plain": [
       "0.9999999999999999"
      ]
     },
     "execution_count": 47,
     "metadata": {},
     "output_type": "execute_result"
    }
   ],
   "source": [
    "pdf = numbers/numbers.sum()\n",
    "sum(pdf)"
   ]
  },
  {
   "cell_type": "markdown",
   "id": "80b8938c",
   "metadata": {},
   "source": [
    "Mean:"
   ]
  },
  {
   "cell_type": "code",
   "execution_count": 48,
   "id": "bf83a557",
   "metadata": {},
   "outputs": [
    {
     "data": {
      "image/png": "[encoded data removed]",
      "text/latex": [
       "$\\displaystyle 3709.20069918958$"
      ],
      "text/plain": [
       "3709.200699189576"
      ]
     },
     "execution_count": 48,
     "metadata": {},
     "output_type": "execute_result"
    }
   ],
   "source": [
    "np.sum(values*pdf)"
   ]
  },
  {
   "cell_type": "markdown",
   "id": "6846cfc8",
   "metadata": {},
   "source": [
    "How many claims with the value above £5000 can be expected during the next year?\n",
    "\n",
    "$$(\\text{probability of value above £}5000)\\times(\\text{average number of claims a year})$$"
   ]
  },
  {
   "cell_type": "code",
   "execution_count": 52,
   "id": "53cb48d5",
   "metadata": {},
   "outputs": [
    {
     "data": {
      "image/png": "[encoded data removed]",
      "text/latex": [
       "$\\displaystyle 569.2$"
      ],
      "text/plain": [
       "569.1999999999999"
      ]
     },
     "execution_count": 52,
     "metadata": {},
     "output_type": "execute_result"
    }
   ],
   "source": [
    "np.sum(pdf*(values>5000))*numbers.sum()/5"
   ]
  },
  {
   "cell_type": "markdown",
   "id": "3e188613",
   "metadata": {},
   "source": [
    "## Small Example "
   ]
  },
  {
   "cell_type": "code",
   "execution_count": 41,
   "id": "3079470a",
   "metadata": {},
   "outputs": [
    {
     "name": "stdout",
     "output_type": "stream",
     "text": [
      "10010\n"
     ]
    },
    {
     "data": {
      "image/png": "[encoded data removed]",
      "text/latex": [
       "$\\displaystyle 100.0999000999$"
      ],
      "text/plain": [
       "100.0999000999001"
      ]
     },
     "execution_count": 41,
     "metadata": {},
     "output_type": "execute_result"
    }
   ],
   "source": [
    "x = np.array([100,]*10000+[200,]*10)\n",
    "print(len(x))\n",
    "x.mean()"
   ]
  },
  {
   "cell_type": "code",
   "execution_count": 44,
   "id": "f6daeb13",
   "metadata": {},
   "outputs": [
    {
     "data": {
      "image/png": "[encoded data removed]",
      "text/plain": [
       "<Figure size 144x144 with 1 Axes>"
      ]
     },
     "metadata": {
      "needs_background": "light"
     },
     "output_type": "display_data"
    },
    {
     "data": {
      "image/png": "[encoded data removed]",
      "text/latex": [
       "$\\displaystyle 100.0999000999$"
      ],
      "text/plain": [
       "100.0999000999001"
      ]
     },
     "execution_count": 44,
     "metadata": {},
     "output_type": "execute_result"
    }
   ],
   "source": [
    "x = np.array([100,200])\n",
    "y = np.array([10000,10])\n",
    "plt.figure(dpi=144, figsize=(1,1))\n",
    "plt.scatter(x, y)\n",
    "plt.show()\n",
    "pdf = y/y.sum()\n",
    "np.sum(x*pdf)"
   ]
  },
  {
   "cell_type": "code",
   "execution_count": null,
   "id": "379f685c",
   "metadata": {},
   "outputs": [],
   "source": []
  }
 ],
 "metadata": {
  "kernelspec": {
   "display_name": "Python 3 (ipykernel)",
   "language": "python",
   "name": "python3"
  },
  "language_info": {
   "codemirror_mode": {
    "name": "ipython",
    "version": 3
   },
   "file_extension": ".py",
   "mimetype": "text/x-python",
   "name": "python",
   "nbconvert_exporter": "python",
   "pygments_lexer": "ipython3",
   "version": "3.8.13"
  }
 },
 "nbformat": 4,
 "nbformat_minor": 5
}
