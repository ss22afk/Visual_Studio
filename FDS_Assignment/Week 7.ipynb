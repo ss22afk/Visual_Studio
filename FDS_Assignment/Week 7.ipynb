{
 "cells": [
  {
   "cell_type": "code",
   "execution_count": 84,
   "id": "4d3c6b8b",
   "metadata": {},
   "outputs": [],
   "source": [
    "import matplotlib.pyplot as plt\n",
    "%matplotlib inline\n",
    "import numpy as np\n",
    "import sklearn as sk"
   ]
  },
  {
   "cell_type": "markdown",
   "id": "43c1a4e1",
   "metadata": {},
   "source": [
    "# Problem 1"
   ]
  },
  {
   "cell_type": "code",
   "execution_count": 85,
   "id": "2f0e1103",
   "metadata": {},
   "outputs": [],
   "source": [
    "q=1.6e-19 # equivalent to 1.6*10**(-19)"
   ]
  },
  {
   "cell_type": "code",
   "execution_count": 86,
   "id": "05f287b6",
   "metadata": {},
   "outputs": [],
   "source": [
    "data=np.genfromtxt('electrons.csv',skip_header=1)"
   ]
  },
  {
   "cell_type": "code",
   "execution_count": 87,
   "id": "6ec80807",
   "metadata": {},
   "outputs": [],
   "source": [
    "x = data[:,0]\n",
    "y = data[:,1]"
   ]
  },
  {
   "cell_type": "markdown",
   "id": "b3a7da50",
   "metadata": {},
   "source": [
    "Fitting using ``numpy``"
   ]
  },
  {
   "cell_type": "code",
   "execution_count": 88,
   "id": "5a0a6762",
   "metadata": {},
   "outputs": [],
   "source": [
    "coeffs = np.polyfit(x,y,1)\n",
    "predict = np.poly1d(coeffs)\n",
    "y_pred = predict(x)"
   ]
  },
  {
   "cell_type": "code",
   "execution_count": 90,
   "id": "7b7d9e6b",
   "metadata": {},
   "outputs": [
    {
     "data": {
      "text/plain": [
       "[<matplotlib.lines.Line2D at 0x13d0127ecd0>]"
      ]
     },
     "execution_count": 90,
     "metadata": {},
     "output_type": "execute_result"
    },
    {
     "data": {
      "image/png": "[encoded data removed]",
      "text/plain": [
       "<Figure size 432x288 with 1 Axes>"
      ]
     },
     "metadata": {
      "needs_background": "light"
     },
     "output_type": "display_data"
    }
   ],
   "source": [
    "plt.scatter(x,y,color='black')\n",
    "plt.plot(x,y_pred,color='blue')"
   ]
  },
  {
   "cell_type": "code",
   "execution_count": 91,
   "id": "ad5a9d2a",
   "metadata": {},
   "outputs": [
    {
     "name": "stdout",
     "output_type": "stream",
     "text": [
      "Electric field strength: 981.00 V/m\n",
      "Average initial electron energy: 359.59 eV\n"
     ]
    }
   ],
   "source": [
    "print(f\"Electric field strength: {b/q:.2f} V/m\")\n",
    "print(f\"Average initial electron energy: {a/q:.2f} eV\")"
   ]
  },
  {
   "cell_type": "markdown",
   "id": "cfe38fb1",
   "metadata": {},
   "source": [
    "Fitting using ``sklearn``"
   ]
  },
  {
   "cell_type": "code",
   "execution_count": 92,
   "id": "1d54bc95",
   "metadata": {},
   "outputs": [],
   "source": [
    "model = sk.linear_model.LinearRegression()"
   ]
  },
  {
   "cell_type": "code",
   "execution_count": 93,
   "id": "40dd246a",
   "metadata": {},
   "outputs": [
    {
     "data": {
      "text/plain": [
       "(129, 1)"
      ]
     },
     "execution_count": 93,
     "metadata": {},
     "output_type": "execute_result"
    }
   ],
   "source": [
    "X = x[:,np.newaxis] # .fit wants a matrix\n",
    "X.shape"
   ]
  },
  {
   "cell_type": "code",
   "execution_count": 94,
   "id": "62bbc9ae",
   "metadata": {},
   "outputs": [
    {
     "data": {
      "text/plain": [
       "LinearRegression()"
      ]
     },
     "execution_count": 94,
     "metadata": {},
     "output_type": "execute_result"
    }
   ],
   "source": [
    "model.fit(X,y)"
   ]
  },
  {
   "cell_type": "code",
   "execution_count": 95,
   "id": "108f66a3",
   "metadata": {},
   "outputs": [],
   "source": [
    "y_pred = model.predict(X)"
   ]
  },
  {
   "cell_type": "code",
   "execution_count": 96,
   "id": "6e87acbe",
   "metadata": {},
   "outputs": [
    {
     "data": {
      "text/plain": [
       "[<matplotlib.lines.Line2D at 0x13d01167160>]"
      ]
     },
     "execution_count": 96,
     "metadata": {},
     "output_type": "execute_result"
    },
    {
     "data": {
      "image/png": "[encoded data removed]",
      "text/plain": [
       "<Figure size 432x288 with 1 Axes>"
      ]
     },
     "metadata": {
      "needs_background": "light"
     },
     "output_type": "display_data"
    }
   ],
   "source": [
    "plt.scatter(x,y,color='black')\n",
    "plt.plot(x,y_pred,color='blue')"
   ]
  },
  {
   "cell_type": "code",
   "execution_count": 97,
   "id": "1bf66cef",
   "metadata": {},
   "outputs": [
    {
     "name": "stdout",
     "output_type": "stream",
     "text": [
      "Electric field strength: 981.00 V/m\n",
      "Average initial electron energy: 359.59 eV\n"
     ]
    }
   ],
   "source": [
    "print(f\"Electric field strength: {model.coef_[0]/q:.2f} V/m\")\n",
    "print(f\"Average initial electron energy: {model.intercept_/q:.2f} eV\")"
   ]
  },
  {
   "cell_type": "markdown",
   "id": "595789a6",
   "metadata": {},
   "source": [
    "# Problem 2"
   ]
  },
  {
   "cell_type": "code",
   "execution_count": 106,
   "id": "9455f3c0",
   "metadata": {},
   "outputs": [],
   "source": [
    "data=np.genfromtxt('tofit.csv',skip_header=1)"
   ]
  },
  {
   "cell_type": "code",
   "execution_count": 107,
   "id": "23309a6c",
   "metadata": {},
   "outputs": [],
   "source": [
    "x = data[:,0]\n",
    "y = data[:,1]"
   ]
  },
  {
   "cell_type": "markdown",
   "id": "5754468d",
   "metadata": {},
   "source": [
    "Fitting using ``numpy``"
   ]
  },
  {
   "cell_type": "code",
   "execution_count": 108,
   "id": "c9957f52",
   "metadata": {},
   "outputs": [],
   "source": [
    "coeffs = np.polyfit(x,y,2)\n",
    "predict = np.poly1d(coeffs)\n",
    "y_pred = predict(x)"
   ]
  },
  {
   "cell_type": "code",
   "execution_count": 109,
   "id": "b8b5b86c",
   "metadata": {},
   "outputs": [
    {
     "data": {
      "text/plain": [
       "[<matplotlib.lines.Line2D at 0x13d01fdb190>]"
      ]
     },
     "execution_count": 109,
     "metadata": {},
     "output_type": "execute_result"
    },
    {
     "data": {
      "image/png": "[encoded data removed]",
      "text/plain": [
       "<Figure size 432x288 with 1 Axes>"
      ]
     },
     "metadata": {
      "needs_background": "light"
     },
     "output_type": "display_data"
    }
   ],
   "source": [
    "plt.scatter(x,y,color='black')\n",
    "plt.plot(x,y_pred)"
   ]
  },
  {
   "cell_type": "markdown",
   "id": "c7ebdee3",
   "metadata": {},
   "source": [
    "Fitting using ``sklearn``"
   ]
  },
  {
   "cell_type": "code",
   "execution_count": 110,
   "id": "095aadd3",
   "metadata": {},
   "outputs": [],
   "source": [
    "model = sk.pipeline.make_pipeline(sk.preprocessing.PolynomialFeatures(2),sk.linear_model.LinearRegression())"
   ]
  },
  {
   "cell_type": "code",
   "execution_count": 111,
   "id": "c95da419",
   "metadata": {},
   "outputs": [
    {
     "data": {
      "text/plain": [
       "Pipeline(steps=[('polynomialfeatures', PolynomialFeatures()),\n",
       "                ('linearregression', LinearRegression())])"
      ]
     },
     "execution_count": 111,
     "metadata": {},
     "output_type": "execute_result"
    }
   ],
   "source": [
    "X = x[:,np.newaxis]\n",
    "model.fit(X,y)"
   ]
  },
  {
   "cell_type": "code",
   "execution_count": 104,
   "id": "9c498799",
   "metadata": {},
   "outputs": [],
   "source": [
    "y_pred = model.predict(X)"
   ]
  },
  {
   "cell_type": "code",
   "execution_count": 112,
   "id": "e089a245",
   "metadata": {},
   "outputs": [
    {
     "data": {
      "text/plain": [
       "[<matplotlib.lines.Line2D at 0x13d01f2cf10>]"
      ]
     },
     "execution_count": 112,
     "metadata": {},
     "output_type": "execute_result"
    },
    {
     "data": {
      "image/png": "[encoded data removed]",
      "text/plain": [
       "<Figure size 432x288 with 1 Axes>"
      ]
     },
     "metadata": {
      "needs_background": "light"
     },
     "output_type": "display_data"
    }
   ],
   "source": [
    "plt.scatter(x,y,color='black')\n",
    "plt.plot(x,y_pred)"
   ]
  },
  {
   "cell_type": "code",
   "execution_count": null,
   "id": "3610ace1",
   "metadata": {},
   "outputs": [],
   "source": []
  }
 ],
 "metadata": {
  "kernelspec": {
   "display_name": "Python 3 (ipykernel)",
   "language": "python",
   "name": "python3"
  },
  "language_info": {
   "codemirror_mode": {
    "name": "ipython",
    "version": 3
   },
   "file_extension": ".py",
   "mimetype": "text/x-python",
   "name": "python",
   "nbconvert_exporter": "python",
   "pygments_lexer": "ipython3",
   "version": "3.8.13"
  }
 },
 "nbformat": 4,
 "nbformat_minor": 5
}
